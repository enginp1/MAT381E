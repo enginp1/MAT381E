{
 "cells": [
  {
   "cell_type": "markdown",
   "id": "e2455b14",
   "metadata": {},
   "source": [
    "# HW3\n",
    "\n",
    "## Text Processing\n",
    "\n",
    "### Q1\n",
    "\n",
    "1. Modify the code I wrote in lecture 8 with what you have learnt in lecture 9 and correctly tokenize the text both on the word and sentence level, and by removing the stopwords. Rewrite the `getSummary` function and all the other functions that it depends by maing these corrections.\n",
    "\n",
    "2. Rewrite the code I wrote for `getKeywords` function making the same corrections.\n",
    "\n",
    "3. Test your code from parts 1 and 2 on random articles from the Guardian.\n",
    "\n",
    "4. Rewrite the `getSubjectGuardian` function for another newspaper in English, and test your code from part 1 and 2 on random articles from this new newspaper."
   ]
  },
  {
   "cell_type": "code",
   "execution_count": 1,
   "id": "f1efeb2c",
   "metadata": {},
   "outputs": [],
   "source": [
    "import nltk\n",
    "import numpy as np\n",
    "import pandas as pd\n",
    "import requests\n",
    "import regex as re\n",
    "import spacy\n",
    "\n",
    "from nltk.corpus import stopwords\n",
    "from xmltodict import parse\n",
    "from bs4 import BeautifulSoup\n",
    "\n",
    "from sklearn.feature_extraction.text import CountVectorizer\n",
    "from sklearn.decomposition import PCA\n",
    "from nltk.tokenize import sent_tokenize, word_tokenize\n",
    "from nltk.sentiment import SentimentIntensityAnalyzer"
   ]
  },
  {
   "cell_type": "code",
   "execution_count": 2,
   "id": "952b4503",
   "metadata": {},
   "outputs": [],
   "source": [
    "def getMatrix(sentences,sw):\n",
    "    vectorizer = CountVectorizer(stop_words=sw)\n",
    "    return vectorizer.fit_transform(sentences)"
   ]
  },
  {
   "cell_type": "code",
   "execution_count": 3,
   "id": "aba0b7ad",
   "metadata": {},
   "outputs": [],
   "source": [
    "def getSummary(text,k,sw):\n",
    "    sentences = sent_tokenize(text)\n",
    "    sw= set(stopwords.words('english'))\n",
    "    matrix = getMatrix(sentences,sw)\n",
    "    projection = PCA(n_components=1)\n",
    "    weights = projection.fit_transform(matrix.toarray())\n",
    "    res = list(zip(weights.transpose()[0],range(112),sentences))\n",
    "    tmp = sorted(res,key=lambda x: x[0],reverse=True)[:k]\n",
    "    return sorted(tmp, key=lambda x: x[1])"
   ]
  },
  {
   "cell_type": "code",
   "execution_count": 4,
   "id": "88a8c147",
   "metadata": {},
   "outputs": [],
   "source": [
    "def getKeywords(text,sw,k):\n",
    "    sentences = sent_tokenize(text)\n",
    "    \n",
    "    vectorizer = CountVectorizer(stop_words=sw)\n",
    "    matrix = vectorizer.fit_transform(sentences)\n",
    "    words = vectorizer.get_feature_names()\n",
    "    \n",
    "    projection = PCA(n_components=1)\n",
    "    tmp = projection.fit_transform(matrix.transpose().toarray())\n",
    "    weights = tmp.transpose()[0]\n",
    "    \n",
    "    return sorted(zip(weights,words),key=lambda x: x[0], reverse=True)[:k]"
   ]
  },
  {
   "cell_type": "code",
   "execution_count": 5,
   "id": "980ba907",
   "metadata": {},
   "outputs": [],
   "source": [
    "def get_text(url):\n",
    "    with requests.get(url) as link:\n",
    "        r = BeautifulSoup(link.content,'html.parser')\n",
    "    text=' '.join([x.text for x in r.find_all('p')])\n",
    "    return text"
   ]
  },
  {
   "cell_type": "code",
   "execution_count": 6,
   "id": "40a0d154",
   "metadata": {},
   "outputs": [],
   "source": [
    "def random_theguardian_url(section):\n",
    "    with requests.get(f'https://www.theguardian.com/{section}/rss') as link:\n",
    "        raw = parse(link.text)\n",
    "    n=len(raw['rss']['channel']['item'])\n",
    "    m = np.random.randint(n)\n",
    "    return raw['rss']['channel']['item'][m]['link']"
   ]
  },
  {
   "cell_type": "code",
   "execution_count": 7,
   "id": "54d6cdbd",
   "metadata": {
    "scrolled": true
   },
   "outputs": [
    {
     "data": {
      "text/plain": [
       "'Joel Embiid had 33 points and 10 rebounds, James Harden added 22 points and 15 assists and the Philadelphia 76ers beat the Toronto Raptors 132-97 in Game 6 to end the first-round series Thursday night. Philadelphia will face Miami in the second round. The top-seeded Heat beat Atlanta in five games. Tyrese Maxey scored 25 points, going 5 for 12 from three-point range, and Tobias Harris had 19 points and 11 rebounds, to help the 76ers finish off the Raptors with a blowout after losing the past two games. Danny Green scored 12 points and shot 4 for 7 from three-point range as the Sixers finished 16 for 40 from beyond the arc. The Raptors struggled from beyond the arc, going 7 for 35. Chris Boucher had 25 points and 10 rebounds for Toronto, Pascal Siakam fouled out with 24 points, Gary Trent Jr had 19 and Scottie Barnes 18. Toronto lost in the first round for the first time since being swept by Washington in 2015. Toronto played without all-star guard Fred VanVleet. He missed his second straight game because of a strained left hip flexor. Toronto’s Precious Achiuwa had 17 points in Game 5 but didn’t score Thursday until making a free throw in the fourth quarter. Achiuwa drove for a dunk at the end of the third but the basket was waved off because it came after the buzzer. He shot 1 for 7 and scored three points. Toronto trailed 70-67 after Siakam made a hook shot with 9:42 left in the third, but Maxey hit three three-pointers as the 76ers broke the game open with a 17-0 run over the next four-plus minutes, opening an 87-67 lead with 5:20 left in the quarter. Raptors coach Nick Nurse called timeout after Harden connected from distance with 3:52 left in the third, putting the Sixers up 92-70. Philadelphia took a 99-78 lead to the fourth. Chris Paul went 14 for 14 in the best shooting night in NBA playoff history, Devin Booker returned from a hamstring injury to hit a late three-pointer and the Phoenix Suns beat the New Orleans Pelicans 115-109 on Thursday night to finish off the first-round series in six games. Paul had the most field goals without a miss in a playoff game, hit all four of his free throws and had eight assists as the top-seeded Suns overcame a 10-point halftime deficit. Phoenix will face the Dallas-Utah winner in the second round. Paul helped put the Suns up for good, at 102-101, on an assist on Deandre Ayton’s dunk with 2:12 left. Ayton had 22 points on 10-of-12 shooting. The Suns erased the 10-point halftime deficit by making 13 of their first 14 shots in the third quarter to take a 77-74 lead. At that point, Paul was 10 of 10 from the field and Ayton was 6 of 6. Paul had 13 points in the quarter, but New Orleans used an 11-5 run to take an 85-82 lead into the final period. Booker played for the first time in nine days since injuring his right hamstring after scoring 31 points in the first half of Game 2. He scored 13 points on 5-of-12 shooting and had five rebounds and three assists in 32 minutes. Brandon Ingram led the Pelicans with 21 points. The game got chippy in the second quarter – there were 16 fouls called – and the Pelicans seemed to revel in the physical play, outsourcing the Suns 30-20 to take a 58-48 halftime lead. Luka Doncic and Jalen Brunson each scored 24 points and the Dallas Mavericks beat the Utah Jazz 98-96 on Thursday night in Game 6 to wrap up the first-round series. After Brunson hit a three-pointer from the corner, Mike Conley was called for traveling with five seconds remaining, and Brunson made one of two free throws with 4.3 seconds to play. The Jazz got an open look for Bojan Bogdanovic on the left wing, but he came up short and the Mavericks moved on to face top-seeded Phoenix in the second round. Doncic also had nine rebounds, eight assists, two blocks and two steals. Spencer Dinwiddie added 19 points, and Dorian Finney-Smith had 18. Donovan Mitchell had 23 points, nine assists and eight rebounds for Utah, Bogdanovic finished with 19 points. The Mavericks won in the first round for the first time since since winning the 2011 NBA championship. Finney-Smith’s three-pointer gave the Mavericks their largest lead at 88-80 before the Jazz scored eight straight – many coming off hustle plays as Utah played with desperation – culminating with a Mitchell-to-Gobert dunk. The Mavericks found their range in the third quarter as they Jazz tried multiple defenses but somehow seemed to consistently leave someone alone behind the arc. Doncic had 10 points and Dallas made 8 of 12 from three-point range to outscore Utah 36-19 in the third quarter.'"
      ]
     },
     "execution_count": 7,
     "metadata": {},
     "output_type": "execute_result"
    }
   ],
   "source": [
    "text=get_text(random_theguardian_url('sport'))\n",
    "text"
   ]
  },
  {
   "cell_type": "code",
   "execution_count": 8,
   "id": "a637e386",
   "metadata": {},
   "outputs": [
    {
     "data": {
      "text/plain": [
       "[(2.1477626958340594,\n",
       "  0,\n",
       "  'Joel Embiid had 33 points and 10 rebounds, James Harden added 22 points and 15 assists and the Philadelphia 76ers beat the Toronto Raptors 132-97 in Game 6 to end the first-round series Thursday night.'),\n",
       " (4.094981710624469,\n",
       "  16,\n",
       "  'Chris Paul went 14 for 14 in the best shooting night in NBA playoff history, Devin Booker returned from a hamstring injury to hit a late three-pointer and the Phoenix Suns beat the New Orleans Pelicans 115-109 on Thursday night to finish off the first-round series in six games.'),\n",
       " (1.3020384457535252,\n",
       "  24,\n",
       "  'Booker played for the first time in nine days since injuring his right hamstring after scoring 31 points in the first half of Game 2.'),\n",
       " (1.68945894127176,\n",
       "  28,\n",
       "  'Luka Doncic and Jalen Brunson each scored 24 points and the Dallas Mavericks beat the Utah Jazz 98-96 on Thursday night in Game 6 to wrap up the first-round series.'),\n",
       " (1.2920967299404738,\n",
       "  34,\n",
       "  'The Mavericks won in the first round for the first time since since winning the 2011 NBA championship.')]"
      ]
     },
     "execution_count": 8,
     "metadata": {},
     "output_type": "execute_result"
    }
   ],
   "source": [
    "sw = set(stopwords.words('english'))\n",
    "getSummary(text,5,sw)"
   ]
  },
  {
   "cell_type": "code",
   "execution_count": 9,
   "id": "e792db5e",
   "metadata": {},
   "outputs": [
    {
     "data": {
      "text/plain": [
       "[(4.573113121770563, 'points'),\n",
       " (1.5818799257271328, 'rebounds'),\n",
       " (1.4509763265918432, 'first'),\n",
       " (1.163117951293904, '10'),\n",
       " (1.159907488762304, '19')]"
      ]
     },
     "execution_count": 9,
     "metadata": {},
     "output_type": "execute_result"
    }
   ],
   "source": [
    "getKeywords(text,sw,5)"
   ]
  },
  {
   "cell_type": "code",
   "execution_count": 10,
   "id": "05966a5c",
   "metadata": {},
   "outputs": [],
   "source": [
    "def getSubject_independent(subject):\n",
    "    with requests.get(f'https://www.independent.co.uk/{subject}/rss') as link:\n",
    "        raw = parse(link.text)\n",
    "    n=len(raw['rss']['channel']['item'])\n",
    "    m = np.random.randint(n)\n",
    "    return raw['rss']['channel']['item'][m]['link']"
   ]
  },
  {
   "cell_type": "code",
   "execution_count": 11,
   "id": "e0256625",
   "metadata": {},
   "outputs": [
    {
     "data": {
      "text/plain": [
       "'Minister admits controls would have hit supermarkets prices and been ‘act of self-harm’  Find your bookmarks in your Independent Premium section, under my profile Boris Johnson’s government has scrapped the introduction of planned post-Brexit inspections on food coming into the UK from the EU, cabinet minister Jacob Rees-Mogg has announced. In a written statement to the Commons, the Brexit opportunities minister said the controls set to come into force on 1 July would not be enforced during 2022. “No further import controls on EU goods will be introduced this year – businesses can stop their preparations for July now,” Mr Rees-Mogg said. Mr Rees-Mogg suggested the government planned a complete overhaul of its border check plans, revealing that the end of 2023 was the target for a brand new “controls regime”. The Independent revealed last month that the government was set to push back the import controls because of growing fears they will exacerbate the\\xa0cost of living crisis. Mr Rees-Mogg pointed to living cost pressures as a major reason for the move, but blamed rising costs on “Russia’s war in Ukraine and in energy prices”. However, he later told ITV that the controls on EU imports “would have been an act of self-harm” – admitting that post-Brexit checks would have seen prices rise at the supermarket. “[With] some costs it would be quite significant – if you look at small deliveries on things like cheese, you were talking about 71 per cent increase, maximum level, on the retail price,” he said. “Free trade is hugely advantageous to consumers.” The Sanitary and Phytosanitary (SPS)\\xa0checks planned for on 1 July would have seen checks on imported agri-food and plant imports. The government estimates that there would have been a £1bn annual hit to trade. There were also concerns that British '"
      ]
     },
     "execution_count": 11,
     "metadata": {},
     "output_type": "execute_result"
    }
   ],
   "source": [
    "text=get_text(getSubject_independent('/news/uk/politics'))[137:1956]\n",
    "text"
   ]
  },
  {
   "cell_type": "code",
   "execution_count": 12,
   "id": "2025e5bb",
   "metadata": {},
   "outputs": [
    {
     "data": {
      "text/plain": [
       "[(4.8912976942003885,\n",
       "  0,\n",
       "  'Minister admits controls would have hit supermarkets prices and been ‘act of self-harm’  Find your bookmarks in your Independent Premium section, under my profile Boris Johnson’s government has scrapped the introduction of planned post-Brexit inspections on food coming into the UK from the EU, cabinet minister Jacob Rees-Mogg has announced.'),\n",
       " (-0.13150562451221526,\n",
       "  1,\n",
       "  'In a written statement to the Commons, the Brexit opportunities minister said the controls set to come into force on 1 July would not be enforced during 2022.'),\n",
       " (1.435645702939244,\n",
       "  6,\n",
       "  'However, he later told ITV that the controls on EU imports “would have been an act of self-harm” – admitting that post-Brexit checks would have seen prices rise at the supermarket.'),\n",
       " (-0.4181685099653282,\n",
       "  8,\n",
       "  '“Free trade is hugely advantageous to consumers.” The Sanitary and Phytosanitary (SPS)\\xa0checks planned for on 1 July would have seen checks on imported agri-food and plant imports.'),\n",
       " (-0.4169771654798164,\n",
       "  9,\n",
       "  'The government estimates that there would have been a £1bn annual hit to trade.')]"
      ]
     },
     "execution_count": 12,
     "metadata": {},
     "output_type": "execute_result"
    }
   ],
   "source": [
    "getSummary(text,5,sw)"
   ]
  },
  {
   "cell_type": "code",
   "execution_count": 13,
   "id": "3556428e",
   "metadata": {},
   "outputs": [
    {
     "data": {
      "text/plain": [
       "[(1.584214879640418, 'minister'),\n",
       " (1.3545126801294898, 'would'),\n",
       " (1.1181374058047742, 'brexit'),\n",
       " (1.0723871521390806, 'controls'),\n",
       " (1.0327538333256236, 'eu')]"
      ]
     },
     "execution_count": 13,
     "metadata": {},
     "output_type": "execute_result"
    }
   ],
   "source": [
    "getKeywords(text,sw,5)"
   ]
  },
  {
   "cell_type": "markdown",
   "id": "c148a291",
   "metadata": {},
   "source": [
    "### Q2\n",
    "\n",
    "Write a function that returns all named entities (proper names, country names, corporation names only) from a URL. Function should take the URL as the input and must return the list of named entities from that URL. Test your code on random articles from the Guardian. Don't use the NLTK's NER that I demonstrated during the lecture. Use the SpaCY's NER function."
   ]
  },
  {
   "cell_type": "code",
   "execution_count": 14,
   "id": "39ef7e94",
   "metadata": {},
   "outputs": [],
   "source": [
    "article_link=random_theguardian_url('sport')"
   ]
  },
  {
   "cell_type": "code",
   "execution_count": 15,
   "id": "4971f3de",
   "metadata": {},
   "outputs": [],
   "source": [
    "def named_entities(url):\n",
    "    text = get_text(url)\n",
    "    NER = spacy.load(\"en_core_web_sm\")\n",
    "    doc = NER(text)\n",
    "\n",
    "    for ent in doc.ents:\n",
    "        if ((ent.label_=='PERSON') or (ent.label_=='ORG') or (ent.label_=='GPE')):\n",
    "            print(ent.text,ent.label_)"
   ]
  },
  {
   "cell_type": "code",
   "execution_count": 16,
   "id": "ff40bebd",
   "metadata": {
    "scrolled": true
   },
   "outputs": [
    {
     "name": "stdout",
     "output_type": "stream",
     "text": [
      "Red Roses ORG\n",
      "England GPE\n",
      "Simon Middleton PERSON\n",
      "France GPE\n",
      "England GPE\n",
      "France GPE\n",
      "New Zealand GPE\n",
      "England GPE\n",
      "Eddie Jones PERSON\n",
      "the Six Nations ORG\n",
      "Middleton PERSON\n",
      "England GPE\n",
      "France GPE\n",
      "England PERSON\n",
      "Emily Scarratt PERSON\n",
      "the Six Nations ORG\n",
      "England GPE\n",
      "France GPE\n",
      "England GPE\n",
      "Bayonne ORG\n",
      "BBC2 ORG\n",
      "England GPE\n",
      "France GPE\n",
      "England GPE\n",
      "Antoine Dupont’s ORG\n",
      "France GPE\n",
      "Scotland GPE\n",
      "Ireland GPE\n",
      "Wales GPE\n",
      "England GPE\n",
      "England GPE\n",
      "England GPE\n",
      "Bayonne knocks PERSON\n",
      "England GPE\n",
      "Middleton ORG\n",
      "the Black Ferns ORG\n",
      "England GPE\n",
      "France GPE\n",
      "Wayne Smith PERSON\n",
      "England GPE\n",
      "France GPE\n",
      "Middleton PERSON\n",
      "Middleton ORG\n",
      "the British & Irish Lions ORG\n",
      "Super Rugby ORG\n",
      "Ian Foster PERSON\n",
      "Springboks ORG\n",
      "the Six Nations ORG\n",
      "England GPE\n",
      "France GPE\n",
      "Middleton PERSON\n"
     ]
    }
   ],
   "source": [
    "named_entities(article_link)"
   ]
  },
  {
   "cell_type": "markdown",
   "id": "82d80aaa",
   "metadata": {},
   "source": [
    "### Q3\n",
    "\n",
    "1. Write a function that returns the most positive and the most negative sentences from a text. The function must take the text as the input and must return a 2-tuple: the first element as the most positive and the second as the most negative sentence with their polarity scores.\n",
    "\n",
    "2. Test your function on random articles from the Guardian."
   ]
  },
  {
   "cell_type": "code",
   "execution_count": 18,
   "id": "c0c48580",
   "metadata": {},
   "outputs": [],
   "source": [
    "article_link=random_theguardian_url('sport')"
   ]
  },
  {
   "cell_type": "code",
   "execution_count": 20,
   "id": "ba9e8944",
   "metadata": {
    "scrolled": true
   },
   "outputs": [
    {
     "data": {
      "text/plain": [
       "'Make or Break’s behind-the-scenes look at the World Surf League engages fans and non-fans alike even if some hard questions remain ignored There is a moment early in the first episode of Make or Break, a new series from Apple TV+ about the World Surf League, when Tyler Wright neatly encapsulates the tension at the heart of professional surfing. “We come from a sport of, ‘aww we’re hippies’,” says the Australian surfer, a two-time WSL champion. “We’re not. We’re competitive little assholes.” Surfing has long grappled with this bipolar identity; a sport initially beloved by the counter-culture movement that grew popular, some would say too popular, on the back of booming commercial and competitive success. Make or Break, an entertaining seven-part series, is the latest attempt by the surfing elite to capitalise on its popularity. Given the show has already been renewed for a second season – before it even went to air – they will most likely succeed. It seems that no high-performance sport can flourish in the modern era without its own behind-the-scenes show on one or other of the rapidly-multiplying streaming platforms. Drive to Survive, the Netflix hit about Formula One, is perhaps the best example – now into its fourth season, the show has expanded the ranks of motorsport fans, including in the lucrative American market. Even before Drive to Survive, English football teams and US sporting franchises were experimenting with access-all-areas docu-series. The success of these shows has sparked a content gold rush. In recent months, Drive to Survive equivalents have been announced for tennis, golf and the Tour de France. Surfing is already on the wave, with this new series developed by Drive to Survive producers James Gay-Rees and Paul Martin (the former is also known for his sporting classics Senna and Maradona). Make or Break is captivating television. Professional surfing is a director’s dream – the WSL sends a small crew of male and female surfers around the world to compete at idyllic surfing locations. The editors have made liberal use of high-definition competition footage, as surfers charge heavy barrels and pull off gravity-defying aerial manoeuvres against beautiful coastal backdrops. There is eye-candy galore. But the show’s real triumph is its ability to engage surfing fans and non-fans alike with well-told stories. Make or Break gently explains and explores the complexity of professional surfing in a manner that makes it accessible for non-surfers, without alienating long-time WSL watchers. The show is unafraid to explore the gritty reality of life on tour, with heartfelt and revealing interviews. “I’m tired to be on the road – I just want to be home,” admits an emotional Filipe Toledo. Another episode charts the challenges faced by the rookies, who live a precarious existence seeking to consolidate their WSL ranking and bank balance. “It’s only once you get results on the tour that you start earning the bucks,” says one. (Professional surfing is a top-heavy sport – the big stars sign million-dollar endorsement deals, while a few bad results can spell competitive and financial doom for others). Now-retired Australian surfing icon Mick Fanning, presented as some kind of wise owl of the surfing world, adds moments of levity throughout the series. Drive to Survive has been criticised for glossing over Formula One’s shortcomings – its history of sportswashing, gender inequality and significant climate impact. Given Make or Break was produced in partnership with the WSL, it is surprising that the first season engages more fully with some of surfing’s own pitfalls. The first episode is particularly gripping, as the WSL confronts a longstanding inequality that has historically seen the women compete at Maui, while the men surfed at the more consequential and iconic Pipeline, on the Hawaiian leg of the tour. “Surfing is sexist,” says a no-nonsense Wright. But a shark attack at Maui during last season’s event saw the women forced to finish the event at Pipeline, a famously-heavy wave. “It would be a moment in women’s surfing history ... but at the same time, farrkkk it’s Pipe,” laughs Wright while weighing up the switch (she ultimately won the event). Pipeline now permanently hosts both the men’s and women’s competition, a positive development – albeit the sport’s lingering gender inequality remains evident in Make or Break, which focuses disproportionately on the men’s competition across the series. Make or Break may well elevate surfing to new heights. The sport’s inclusion in the Olympics last year was another step towards the mainstream; Wright’s brother, Owen, won bronze for Australia. By humanising the world’s best surfers (the frequent expletives suggest unfiltered footage), and accessibly explaining the sport’s vagaries, Make or Break will attract a wider audience to the WSL, just as Drive to Survive has done for Formula One. From the WSL’s perspective, the partnership will likely prove a shrewd commercial decision. In the new sporting era, content is king. But it does leave a wider question unanswered – at what cost? What does commercial success and greater popular recognition, propelled by a new international TV series released by one of the world’s biggest technology companies, mean for the soul of surfing? Is the sport’s growing mass-appeal an unalloyed positive? Midway through Make or Break, the WSL season heads to inland California, for an event at Kelly Slater’s Surf Ranch, a wave pool. This artificial competition setting is depicted as a pure test of surfing ability. “There’s nowhere to hide,” says one observer of the format, in which surfers compete individually on identical waves, ranked against the whole field, rather than in heat-by-heat contests subject to the whims of the ocean. Left unremarked is the profound philosophical shift prompted by wave pool surfing for a sport and past-time founded on a deep, even spiritual connection to the sea. It may be too much to expect a glossy streaming series to explore such existential questions. The evolution of the sport, from its hippy roots to wave-pool competition broadcast around the globe, continues unabated. Make or Break will only give this trend greater momentum. But, at the very least, it is compelling viewing. Make or Break premieres on 29 April on Apple TV+'"
      ]
     },
     "execution_count": 20,
     "metadata": {},
     "output_type": "execute_result"
    }
   ],
   "source": [
    "text=get_text(article_link)\n",
    "text"
   ]
  },
  {
   "cell_type": "code",
   "execution_count": 21,
   "id": "4bb63bf0",
   "metadata": {},
   "outputs": [],
   "source": [
    "def analyze(text):\n",
    "    \n",
    "    analyzer = SentimentIntensityAnalyzer()\n",
    "    \n",
    "    analyzer.polarity_scores(text)\n",
    "    sentences = sent_tokenize(text)\n",
    "    sentences=[(x,analyzer.polarity_scores(x)) for x in sentences]\n",
    "\n",
    "    max_pol=sentences[0][1]['compound']\n",
    "    min_pol=sentences[0][1]['compound']\n",
    "    max_sent=sentences[0][0]\n",
    "    min_sent=sentences[0][0]\n",
    "    for i in sentences:\n",
    "        if i[1]['compound']>max_pol:\n",
    "            max_pol=i[1]['compound']\n",
    "            max_sent=i[0]\n",
    "        elif i[1]['compound']<min_pol:\n",
    "            min_pol=i[1]['compound']\n",
    "            min_sent=i[0]\n",
    "    max_list=[max_sent,max_pol]\n",
    "    min_list=[min_sent,min_pol]\n",
    "    return max_list,min_list"
   ]
  },
  {
   "cell_type": "code",
   "execution_count": 22,
   "id": "574a2655",
   "metadata": {
    "scrolled": false
   },
   "outputs": [
    {
     "data": {
      "text/plain": [
       "(['We’re competitive little assholes.” Surfing has long grappled with this bipolar identity; a sport initially beloved by the counter-culture movement that grew popular, some would say too popular, on the back of booming commercial and competitive success.',\n",
       "  0.9325],\n",
       " ['But a shark attack at Maui during last season’s event saw the women forced to finish the event at Pipeline, a famously-heavy wave.',\n",
       "  -0.8462])"
      ]
     },
     "execution_count": 22,
     "metadata": {},
     "output_type": "execute_result"
    }
   ],
   "source": [
    "analyze(text)"
   ]
  }
 ],
 "metadata": {
  "kernelspec": {
   "display_name": "Python 3 (ipykernel)",
   "language": "python",
   "name": "python3"
  },
  "language_info": {
   "codemirror_mode": {
    "name": "ipython",
    "version": 3
   },
   "file_extension": ".py",
   "mimetype": "text/x-python",
   "name": "python",
   "nbconvert_exporter": "python",
   "pygments_lexer": "ipython3",
   "version": "3.9.7"
  }
 },
 "nbformat": 4,
 "nbformat_minor": 5
}
